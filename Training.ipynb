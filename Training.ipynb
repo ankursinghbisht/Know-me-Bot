{
 "cells": [
  {
   "cell_type": "code",
   "execution_count": null,
   "id": "0861ce3c-485a-48f0-8480-7c34211c967d",
   "metadata": {
    "id": "26248519-df9a-474a-a00b-f00b5d81f073"
   },
   "outputs": [],
   "source": [
    "import pandas as pd\n",
    "import torch\n",
    "import json\n",
    "from transformers import BloomTokenizerFast, BloomForCausalLM, TrainingArguments, Trainer\n",
    "from datasets import load_dataset"
   ]
  },
  {
   "cell_type": "code",
   "execution_count": null,
   "id": "69ae07ba-42e8-43ca-b9f6-641bbd14adab",
   "metadata": {
    "id": "26248519-df9a-474a-a00b-f00b5d81f073"
   },
   "outputs": [],
   "source": [
    "# Loading bloomz model and tokenizer\n",
    "tokenizer = BloomTokenizerFast.from_pretrained(\"bigscience/bloomz-560m\")\n",
    "model = BloomForCausalLM.from_pretrained(\"bigscience/bloomz-560m\",device_map= \"auto\").to(\"cuda\")"
   ]
  },
  {
   "cell_type": "code",
   "execution_count": null,
   "id": "axPuXsTL4fG8",
   "metadata": {
    "id": "axPuXsTL4fG8"
   },
   "outputs": [],
   "source": [
    "# Loading dataset prompts.json\n",
    "\n",
    "dataset = load_dataset(\"json\", data_files=\"prompts.json\")\n",
    "\n",
    "def prepare_train_data(data):\n",
    "    # prompt + completion\n",
    "    text_input = data['text']\n",
    "    text_input = [statement + ' </s>' for statement in text_input]\n",
    "\n",
    "    # tokenize the input (prompt + completion) text\n",
    "    tokenized_input = tokenizer(text_input, return_tensors='pt', padding=True, truncation=True, max_length=256)\n",
    "    # generative models: labels are the same as the input\n",
    "    tokenized_input['labels'] = tokenized_input['input_ids']\n",
    "    return tokenized_input\n"
   ]
  },
  {
   "cell_type": "code",
   "execution_count": null,
   "id": "YNVTwivu-7un",
   "metadata": {
    "colab": {
     "base_uri": "https://localhost:8080/",
     "height": 49,
     "referenced_widgets": [
      "0969122c388e4677af1c68d840d6cb70",
      "97b799520e5341c792b621bc1a2e1680",
      "a23c887ce1e64fd6b0ca606a5cf06d60",
      "69c7d079f55f4773afc175713ea78aec",
      "336e178276654b1eafef4da6cfe7b96c",
      "7c94217b83564988b964414b7986e44f",
      "622bfe542a8a4414a83eddf94292a951",
      "1d5e293450d74f8aa02b86629482e785",
      "05d61adda2054647a1ce91ce6cc24a43",
      "8538c1f5ca8d46d69baea8f54cb22066",
      "087edc7d80794c6bb2f6ec893be13039"
     ]
    },
    "id": "YNVTwivu-7un",
    "outputId": "d2ce618f-f6e9-4516-887e-c23d4356333e"
   },
   "outputs": [],
   "source": [
    "train_dataset = dataset['train'].map(prepare_train_data,\n",
    "                                     batched=True,\n",
    "                                     remove_columns=[\"text\"])"
   ]
  },
  {
   "cell_type": "code",
   "execution_count": null,
   "id": "f6686c15-5202-42a3-a64e-ad40cd608dbb",
   "metadata": {
    "id": "f6686c15-5202-42a3-a64e-ad40cd608dbb"
   },
   "outputs": [],
   "source": [
    "# setting arguments to be used during training\n",
    "training_arguments = TrainingArguments(\n",
    "    'Clone',\n",
    "    learning_rate=2e-5,\n",
    "    per_device_train_batch_size=5,\n",
    "    num_train_epochs=10,\n",
    "    weight_decay=0.01,\n",
    "    fp16=True,\n",
    "    optim=\"adafactor\",\n",
    "    gradient_accumulation_steps=4,\n",
    "    gradient_checkpointing=True,\n",
    ")"
   ]
  },
  {
   "cell_type": "code",
   "execution_count": null,
   "id": "43b3ae7f-f112-4f27-93a5-97dea2f53bc4",
   "metadata": {
    "colab": {
     "base_uri": "https://localhost:8080/",
     "height": 213
    },
    "id": "43b3ae7f-f112-4f27-93a5-97dea2f53bc4",
    "outputId": "9ac0b2f1-6284-4930-a062-dcc24cc68df5"
   },
   "outputs": [],
   "source": [
    "trainer = Trainer(\n",
    "    model = model,\n",
    "    args = training_arguments,\n",
    "    train_dataset = train_dataset\n",
    ")\n",
    "\n",
    "trainer.train()\n",
    "trainer.save_model()"
   ]
  },
  {
   "cell_type": "markdown",
   "id": "VgaeH4QooeJQ",
   "metadata": {
    "id": "VgaeH4QooeJQ"
   },
   "source": [
    "# Testing"
   ]
  },
  {
   "cell_type": "code",
   "execution_count": null,
   "id": "cdEAUnwZWWft",
   "metadata": {
    "id": "cdEAUnwZWWft"
   },
   "outputs": [],
   "source": [
    "import torch\n",
    "from transformers import pipeline\n",
    "from transformers import BloomTokenizerFast, BloomForCausalLM\n",
    "import textwrap\n",
    "\n",
    "# Loading the fine-tuned model\n",
    "tokenizer = BloomTokenizerFast.from_pretrained(\"Clone\")\n",
    "model = BloomForCausalLM.from_pretrained(\"Clone\")\n",
    "\n"
   ]
  },
  {
   "cell_type": "code",
   "execution_count": null,
   "id": "gboRuH87lwoX",
   "metadata": {
    "colab": {
     "base_uri": "https://localhost:8080/"
    },
    "id": "gboRuH87lwoX",
    "outputId": "a9875fbc-6f00-4616-fa6d-222c64167b0c"
   },
   "outputs": [],
   "source": [
    "import textwrap\n",
    "from transformers import pipeline\n",
    "\n",
    "generator = pipeline('text-generation',\n",
    "                         model=model,\n",
    "                         tokenizer=tokenizer,\n",
    "                         do_sample=True,\n",
    "                         temperature=1)\n",
    "\n",
    "while True:\n",
    "    # Take user input\n",
    "    user_input = input(\"You: \")\n",
    "\n",
    "    # Exit the loop if the user types 'exit'\n",
    "    if user_input.lower() == 'exit':\n",
    "        print(\"Conversation ended.\")\n",
    "        break\n",
    "\n",
    "    # Generate model response\n",
    "    prompt = f\"Question: {user_input}\\nWith no context, what is the answer?\\nAnswer: \"\n",
    "\n",
    "    result = generator(prompt, max_length=256)\n",
    "\n",
    "    generated_text = result[0]['generated_text']\n",
    "\n",
    "    # Find the position of the end-of-sequence token (EOS)\n",
    "    eos_index = generated_text.find(\"</s>\")\n",
    "    if eos_index != -1:\n",
    "        # Crop the generated text up to the end-of-sequence token\n",
    "        generated_answer = generated_text[len(prompt):eos_index].strip()\n",
    "    else:\n",
    "        # If EOS token not found, use the whole generated text\n",
    "        generated_answer = generated_text[len(prompt):].strip()\n",
    "\n",
    "    # Extract the generated answer\n",
    "    generated_answer = generated_text[len(prompt):].strip()\n",
    "\n",
    "    # Wrap the generated answer to fit the screen width\n",
    "    wrapped_answer = textwrap.fill(generated_answer, width=120)\n",
    "\n",
    "    # Print the wrapped answer\n",
    "    print(f\"Answer:\\n{wrapped_answer}\\n\")\n"
   ]
  },
  {
   "cell_type": "code",
   "execution_count": null,
   "id": "GnGXF-w3wapH",
   "metadata": {
    "id": "GnGXF-w3wapH"
   },
   "outputs": [],
   "source": []
  }
 ],
 "metadata": {
  "accelerator": "GPU",
  "colab": {
   "gpuType": "T4",
   "provenance": []
  },
  "kernelspec": {
   "display_name": "Python 3 (ipykernel)",
   "language": "python",
   "name": "python3"
  },
  "language_info": {
   "codemirror_mode": {
    "name": "ipython",
    "version": 3
   },
   "file_extension": ".py",
   "mimetype": "text/x-python",
   "name": "python",
   "nbconvert_exporter": "python",
   "pygments_lexer": "ipython3",
   "version": "3.10.6"
  },
  "widgets": {
   "application/vnd.jupyter.widget-state+json": {
    "05d61adda2054647a1ce91ce6cc24a43": {
     "model_module": "@jupyter-widgets/controls",
     "model_module_version": "1.5.0",
     "model_name": "ProgressStyleModel",
     "state": {
      "_model_module": "@jupyter-widgets/controls",
      "_model_module_version": "1.5.0",
      "_model_name": "ProgressStyleModel",
      "_view_count": null,
      "_view_module": "@jupyter-widgets/base",
      "_view_module_version": "1.2.0",
      "_view_name": "StyleView",
      "bar_color": null,
      "description_width": ""
     }
    },
    "087edc7d80794c6bb2f6ec893be13039": {
     "model_module": "@jupyter-widgets/controls",
     "model_module_version": "1.5.0",
     "model_name": "DescriptionStyleModel",
     "state": {
      "_model_module": "@jupyter-widgets/controls",
      "_model_module_version": "1.5.0",
      "_model_name": "DescriptionStyleModel",
      "_view_count": null,
      "_view_module": "@jupyter-widgets/base",
      "_view_module_version": "1.2.0",
      "_view_name": "StyleView",
      "description_width": ""
     }
    },
    "0969122c388e4677af1c68d840d6cb70": {
     "model_module": "@jupyter-widgets/controls",
     "model_module_version": "1.5.0",
     "model_name": "HBoxModel",
     "state": {
      "_dom_classes": [],
      "_model_module": "@jupyter-widgets/controls",
      "_model_module_version": "1.5.0",
      "_model_name": "HBoxModel",
      "_view_count": null,
      "_view_module": "@jupyter-widgets/controls",
      "_view_module_version": "1.5.0",
      "_view_name": "HBoxView",
      "box_style": "",
      "children": [
       "IPY_MODEL_97b799520e5341c792b621bc1a2e1680",
       "IPY_MODEL_a23c887ce1e64fd6b0ca606a5cf06d60",
       "IPY_MODEL_69c7d079f55f4773afc175713ea78aec"
      ],
      "layout": "IPY_MODEL_336e178276654b1eafef4da6cfe7b96c"
     }
    },
    "1d5e293450d74f8aa02b86629482e785": {
     "model_module": "@jupyter-widgets/base",
     "model_module_version": "1.2.0",
     "model_name": "LayoutModel",
     "state": {
      "_model_module": "@jupyter-widgets/base",
      "_model_module_version": "1.2.0",
      "_model_name": "LayoutModel",
      "_view_count": null,
      "_view_module": "@jupyter-widgets/base",
      "_view_module_version": "1.2.0",
      "_view_name": "LayoutView",
      "align_content": null,
      "align_items": null,
      "align_self": null,
      "border": null,
      "bottom": null,
      "display": null,
      "flex": null,
      "flex_flow": null,
      "grid_area": null,
      "grid_auto_columns": null,
      "grid_auto_flow": null,
      "grid_auto_rows": null,
      "grid_column": null,
      "grid_gap": null,
      "grid_row": null,
      "grid_template_areas": null,
      "grid_template_columns": null,
      "grid_template_rows": null,
      "height": null,
      "justify_content": null,
      "justify_items": null,
      "left": null,
      "margin": null,
      "max_height": null,
      "max_width": null,
      "min_height": null,
      "min_width": null,
      "object_fit": null,
      "object_position": null,
      "order": null,
      "overflow": null,
      "overflow_x": null,
      "overflow_y": null,
      "padding": null,
      "right": null,
      "top": null,
      "visibility": null,
      "width": null
     }
    },
    "336e178276654b1eafef4da6cfe7b96c": {
     "model_module": "@jupyter-widgets/base",
     "model_module_version": "1.2.0",
     "model_name": "LayoutModel",
     "state": {
      "_model_module": "@jupyter-widgets/base",
      "_model_module_version": "1.2.0",
      "_model_name": "LayoutModel",
      "_view_count": null,
      "_view_module": "@jupyter-widgets/base",
      "_view_module_version": "1.2.0",
      "_view_name": "LayoutView",
      "align_content": null,
      "align_items": null,
      "align_self": null,
      "border": null,
      "bottom": null,
      "display": null,
      "flex": null,
      "flex_flow": null,
      "grid_area": null,
      "grid_auto_columns": null,
      "grid_auto_flow": null,
      "grid_auto_rows": null,
      "grid_column": null,
      "grid_gap": null,
      "grid_row": null,
      "grid_template_areas": null,
      "grid_template_columns": null,
      "grid_template_rows": null,
      "height": null,
      "justify_content": null,
      "justify_items": null,
      "left": null,
      "margin": null,
      "max_height": null,
      "max_width": null,
      "min_height": null,
      "min_width": null,
      "object_fit": null,
      "object_position": null,
      "order": null,
      "overflow": null,
      "overflow_x": null,
      "overflow_y": null,
      "padding": null,
      "right": null,
      "top": null,
      "visibility": null,
      "width": null
     }
    },
    "622bfe542a8a4414a83eddf94292a951": {
     "model_module": "@jupyter-widgets/controls",
     "model_module_version": "1.5.0",
     "model_name": "DescriptionStyleModel",
     "state": {
      "_model_module": "@jupyter-widgets/controls",
      "_model_module_version": "1.5.0",
      "_model_name": "DescriptionStyleModel",
      "_view_count": null,
      "_view_module": "@jupyter-widgets/base",
      "_view_module_version": "1.2.0",
      "_view_name": "StyleView",
      "description_width": ""
     }
    },
    "69c7d079f55f4773afc175713ea78aec": {
     "model_module": "@jupyter-widgets/controls",
     "model_module_version": "1.5.0",
     "model_name": "HTMLModel",
     "state": {
      "_dom_classes": [],
      "_model_module": "@jupyter-widgets/controls",
      "_model_module_version": "1.5.0",
      "_model_name": "HTMLModel",
      "_view_count": null,
      "_view_module": "@jupyter-widgets/controls",
      "_view_module_version": "1.5.0",
      "_view_name": "HTMLView",
      "description": "",
      "description_tooltip": null,
      "layout": "IPY_MODEL_8538c1f5ca8d46d69baea8f54cb22066",
      "placeholder": "​",
      "style": "IPY_MODEL_087edc7d80794c6bb2f6ec893be13039",
      "value": " 1860/1860 [00:02&lt;00:00, 951.89 examples/s]"
     }
    },
    "7c94217b83564988b964414b7986e44f": {
     "model_module": "@jupyter-widgets/base",
     "model_module_version": "1.2.0",
     "model_name": "LayoutModel",
     "state": {
      "_model_module": "@jupyter-widgets/base",
      "_model_module_version": "1.2.0",
      "_model_name": "LayoutModel",
      "_view_count": null,
      "_view_module": "@jupyter-widgets/base",
      "_view_module_version": "1.2.0",
      "_view_name": "LayoutView",
      "align_content": null,
      "align_items": null,
      "align_self": null,
      "border": null,
      "bottom": null,
      "display": null,
      "flex": null,
      "flex_flow": null,
      "grid_area": null,
      "grid_auto_columns": null,
      "grid_auto_flow": null,
      "grid_auto_rows": null,
      "grid_column": null,
      "grid_gap": null,
      "grid_row": null,
      "grid_template_areas": null,
      "grid_template_columns": null,
      "grid_template_rows": null,
      "height": null,
      "justify_content": null,
      "justify_items": null,
      "left": null,
      "margin": null,
      "max_height": null,
      "max_width": null,
      "min_height": null,
      "min_width": null,
      "object_fit": null,
      "object_position": null,
      "order": null,
      "overflow": null,
      "overflow_x": null,
      "overflow_y": null,
      "padding": null,
      "right": null,
      "top": null,
      "visibility": null,
      "width": null
     }
    },
    "8538c1f5ca8d46d69baea8f54cb22066": {
     "model_module": "@jupyter-widgets/base",
     "model_module_version": "1.2.0",
     "model_name": "LayoutModel",
     "state": {
      "_model_module": "@jupyter-widgets/base",
      "_model_module_version": "1.2.0",
      "_model_name": "LayoutModel",
      "_view_count": null,
      "_view_module": "@jupyter-widgets/base",
      "_view_module_version": "1.2.0",
      "_view_name": "LayoutView",
      "align_content": null,
      "align_items": null,
      "align_self": null,
      "border": null,
      "bottom": null,
      "display": null,
      "flex": null,
      "flex_flow": null,
      "grid_area": null,
      "grid_auto_columns": null,
      "grid_auto_flow": null,
      "grid_auto_rows": null,
      "grid_column": null,
      "grid_gap": null,
      "grid_row": null,
      "grid_template_areas": null,
      "grid_template_columns": null,
      "grid_template_rows": null,
      "height": null,
      "justify_content": null,
      "justify_items": null,
      "left": null,
      "margin": null,
      "max_height": null,
      "max_width": null,
      "min_height": null,
      "min_width": null,
      "object_fit": null,
      "object_position": null,
      "order": null,
      "overflow": null,
      "overflow_x": null,
      "overflow_y": null,
      "padding": null,
      "right": null,
      "top": null,
      "visibility": null,
      "width": null
     }
    },
    "97b799520e5341c792b621bc1a2e1680": {
     "model_module": "@jupyter-widgets/controls",
     "model_module_version": "1.5.0",
     "model_name": "HTMLModel",
     "state": {
      "_dom_classes": [],
      "_model_module": "@jupyter-widgets/controls",
      "_model_module_version": "1.5.0",
      "_model_name": "HTMLModel",
      "_view_count": null,
      "_view_module": "@jupyter-widgets/controls",
      "_view_module_version": "1.5.0",
      "_view_name": "HTMLView",
      "description": "",
      "description_tooltip": null,
      "layout": "IPY_MODEL_7c94217b83564988b964414b7986e44f",
      "placeholder": "​",
      "style": "IPY_MODEL_622bfe542a8a4414a83eddf94292a951",
      "value": "Map: 100%"
     }
    },
    "a23c887ce1e64fd6b0ca606a5cf06d60": {
     "model_module": "@jupyter-widgets/controls",
     "model_module_version": "1.5.0",
     "model_name": "FloatProgressModel",
     "state": {
      "_dom_classes": [],
      "_model_module": "@jupyter-widgets/controls",
      "_model_module_version": "1.5.0",
      "_model_name": "FloatProgressModel",
      "_view_count": null,
      "_view_module": "@jupyter-widgets/controls",
      "_view_module_version": "1.5.0",
      "_view_name": "ProgressView",
      "bar_style": "success",
      "description": "",
      "description_tooltip": null,
      "layout": "IPY_MODEL_1d5e293450d74f8aa02b86629482e785",
      "max": 1860,
      "min": 0,
      "orientation": "horizontal",
      "style": "IPY_MODEL_05d61adda2054647a1ce91ce6cc24a43",
      "value": 1860
     }
    }
   }
  }
 },
 "nbformat": 4,
 "nbformat_minor": 5
}
