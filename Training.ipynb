{
 "cells": [
  {
   "cell_type": "code",
   "execution_count": null,
   "id": "SjdU_sJDeZMO",
   "metadata": {
    "colab": {
     "base_uri": "https://localhost:8080/"
    },
    "id": "SjdU_sJDeZMO",
    "outputId": "16c833df-15db-4186-96e9-42d82120624a"
   },
   "outputs": [],
   "source": [
    "gpu_info = !nvidia-smi\n",
    "gpu_info = '\\n'.join(gpu_info)\n",
    "if gpu_info.find('failed') >= 0:\n",
    "  print('Not connected to a GPU')\n",
    "else:\n",
    "  print(gpu_info)"
   ]
  },
  {
   "cell_type": "code",
   "execution_count": null,
   "id": "06fe0dae-93b3-47e2-9f56-34f4c3ac0bb6",
   "metadata": {
    "id": "06fe0dae-93b3-47e2-9f56-34f4c3ac0bb6"
   },
   "outputs": [],
   "source": [
    "from transformers import (\n",
    "    AutoTokenizer,\n",
    "    AutoConfig,\n",
    "    AutoModelForSequenceClassification,\n",
    "    DataCollatorWithPadding,\n",
    "    TrainingArguments,\n",
    "    Trainer)\n",
    "\n",
    "from peft import PeftModel, PeftConfig, get_peft_model, LoraConfig\n",
    "import torch\n",
    "import numpy as np\n",
    "import random\n",
    "import pandas as pd"
   ]
  },
  {
   "cell_type": "markdown",
   "id": "19408db0-e2cf-461f-8b1b-9fa547e65157",
   "metadata": {
    "id": "19408db0-e2cf-461f-8b1b-9fa547e65157"
   },
   "source": [
    "# Data Preprocessing"
   ]
  },
  {
   "cell_type": "code",
   "execution_count": null,
   "id": "52e78cd4-ca8e-4f34-b802-1f9be6e96746",
   "metadata": {
    "id": "52e78cd4-ca8e-4f34-b802-1f9be6e96746"
   },
   "outputs": [],
   "source": [
    "# Access the 'train' split of the dataset\n",
    "train_dataset = pd.read_csv(\"data.csv\")\n",
    "\n",
    "df=pd.DataFrame.from_dict(train_dataset)"
   ]
  },
  {
   "cell_type": "code",
   "execution_count": null,
   "id": "bda2bc6f-81ce-48bc-b93c-1cc069edf444",
   "metadata": {
    "colab": {
     "base_uri": "https://localhost:8080/"
    },
    "id": "bda2bc6f-81ce-48bc-b93c-1cc069edf444",
    "outputId": "102d7723-8d65-40cc-889c-fb3c57810465"
   },
   "outputs": [],
   "source": [
    "df.info()"
   ]
  },
  {
   "cell_type": "code",
   "execution_count": null,
   "id": "4b2d0105-2418-49ec-94a1-510d8ea91588",
   "metadata": {
    "id": "4b2d0105-2418-49ec-94a1-510d8ea91588"
   },
   "outputs": [],
   "source": [
    "import pandas as pd\n",
    "import json\n",
    "\n",
    "def build_prompt_verbose(data):\n",
    "    if data['context'] is None or data['context'] == \"\":\n",
    "        prompt = f\"Question: {data['question']}\\nWith no context, what is the answer?\\nAnswer: {data['answer']}\\n\"\n",
    "    else:\n",
    "        prompt = f\"Question: {data['question']}\\nIn the context of {data['context']}, what is the answer?\\nAnswer: {data['answer']}\\n\"\n",
    "    return {'text': prompt}\n",
    "\n",
    "df['prompt'] = df.apply(buildprompt, axis=1)\n",
    "\n",
    "result = df['prompt'].to_list()\n",
    "\n",
    "# Save prompts to a JSON file\n",
    "with open('prompts.json', 'w') as outfile:\n",
    "    json.dump(result, outfile, ensure_ascii=False)\n"
   ]
  },
  {
   "cell_type": "code",
   "execution_count": null,
   "id": "bce53422-8610-480e-ac82-dd8a4d4da80f",
   "metadata": {
    "colab": {
     "base_uri": "https://localhost:8080/"
    },
    "id": "bce53422-8610-480e-ac82-dd8a4d4da80f",
    "outputId": "54548c4f-a5c4-4b37-9810-ed4354170277"
   },
   "outputs": [],
   "source": [
    "pd.set_option('display.max_colwidth', None)"
   ]
  },
  {
   "cell_type": "markdown",
   "id": "63b653cb-eeef-4ddd-a8c9-2844adcc9eb6",
   "metadata": {
    "id": "63b653cb-eeef-4ddd-a8c9-2844adcc9eb6"
   },
   "source": [
    "# Model"
   ]
  },
  {
   "cell_type": "code",
   "execution_count": null,
   "id": "26248519-df9a-474a-a00b-f00b5d81f073",
   "metadata": {
    "colab": {
     "base_uri": "https://localhost:8080/",
     "height": 49,
     "referenced_widgets": [
      "d805ec41662e469daff9dee7151a4788",
      "776da4ed1a094aafa70f008466cbbdb6",
      "11bb0fba24854cfc8f080f54aba0c93e",
      "5553cffc653e4578a2cd1c180e8f6835",
      "cc7e7550d7b344418437f1c7b8227091",
      "e135f70bfaf2479fa4793b32721b7ad7",
      "80b221ba44014c45bba4fd890e67ad74",
      "ca4074be4e3c4a6b9b90c06b59be4dbf",
      "17b7c5228eb248b88eadd3a9458f037b",
      "fa68137f63ea4929ae01c1945bbd9622",
      "fdf86fd0151a4e9dbc8290badf449f19"
     ]
    },
    "id": "26248519-df9a-474a-a00b-f00b5d81f073",
    "outputId": "dc452f3d-9817-436d-fb8a-c6674065c6e7"
   },
   "outputs": [],
   "source": [
    "import pandas as pd\n",
    "import torch\n",
    "import json\n",
    "from transformers import BloomTokenizerFast, BloomForCausalLM, TrainingArguments, Trainer\n",
    "model_name=\"bigscience/bloom-560m\"\n",
    "# Loading bloomz model and tokenizer\n",
    "tokenizer = BloomTokenizerFast.from_pretrained(model_name)\n",
    "model = BloomForCausalLM.from_pretrained(model_name,device_map= \"auto\").to(\"cuda\")"
   ]
  },
  {
   "cell_type": "code",
   "execution_count": null,
   "id": "axPuXsTL4fG8",
   "metadata": {
    "colab": {
     "base_uri": "https://localhost:8080/",
     "height": 49,
     "referenced_widgets": [
      "277e440a63f64002bbe5c806cd28b326",
      "13b3fdc395fd410e8ab9ea5173a23bc1",
      "c5c6d471f26c456e98e5145a2903b5f4",
      "d3c0fa7a616a4c868c1ea24384f4e9e8",
      "9ccec843229a45a18ee2f8c09c6e2e98",
      "eb6018eac08245489065b92427a33424",
      "1b8bde918bf7457698032861ccc1e11b",
      "34bb36a5af924ee4af66c6e73cad5b77",
      "678ec8d355a4440f889197caa8cb92f2",
      "894aa2ebf468457694e43c25c1dd520f",
      "5a35db2a895d449f8a1239eeb0498cef"
     ]
    },
    "id": "axPuXsTL4fG8",
    "outputId": "f8055152-4df7-4d0a-b42e-7500188e85e7"
   },
   "outputs": [],
   "source": [
    "# Loading dataset prompts.json built using de portuguese legalQA dataset\n",
    "dataset = load_dataset(\"json\", data_files=\"prompts.json\")\n",
    "\n",
    "# prepare the data for training\n",
    "def prepare_train_data(data):\n",
    "    # prompt + completion\n",
    "    text_input = data['text']\n",
    "    # tokenize the input (prompt + completion) text\n",
    "    tokenized_input = tokenizer(text_input, return_tensors='pt', padding=True, truncation=True,max_length=256)\n",
    "    # generative models: labels are the same as the input\n",
    "    tokenized_input['labels'] = tokenized_input['input_ids']\n",
    "    return tokenized_input\n",
    "\n",
    "train_dataset = dataset['train'].map(prepare_train_data,\n",
    "                                     batched=True,\n",
    "                                     remove_columns=[\"text\"])"
   ]
  },
  {
   "cell_type": "code",
   "execution_count": null,
   "id": "f6686c15-5202-42a3-a64e-ad40cd608dbb",
   "metadata": {
    "id": "f6686c15-5202-42a3-a64e-ad40cd608dbb"
   },
   "outputs": [],
   "source": [
    "# setting arguments to be used during training\n",
    "training_arguments = TrainingArguments(\n",
    "    'Clone',\n",
    "    learning_rate=2e-5,\n",
    "    per_device_train_batch_size=2,\n",
    "    num_train_epochs=20,\n",
    "    weight_decay=0.01,\n",
    "    fp16=True,\n",
    "    optim=\"adafactor\",\n",
    "    gradient_accumulation_steps=4,\n",
    "    gradient_checkpointing=True,\n",
    ")"
   ]
  },
  {
   "cell_type": "code",
   "execution_count": null,
   "id": "43b3ae7f-f112-4f27-93a5-97dea2f53bc4",
   "metadata": {
    "colab": {
     "base_uri": "https://localhost:8080/",
     "height": 491
    },
    "id": "43b3ae7f-f112-4f27-93a5-97dea2f53bc4",
    "outputId": "0c8b92af-b271-42c7-da21-14a3a917c26b"
   },
   "outputs": [],
   "source": [
    "trainer = Trainer(\n",
    "    model = model,\n",
    "    args = training_arguments,\n",
    "    train_dataset = train_dataset\n",
    ")\n",
    "\n",
    "trainer.train()\n",
    "trainer.save_model()"
   ]
  },
  {
   "cell_type": "code",
   "execution_count": null,
   "id": "dKkzQHO9VaBi",
   "metadata": {
    "id": "dKkzQHO9VaBi"
   },
   "outputs": [],
   "source": [
    "from google.colab import files\n",
    "files.download(\"/content/model.zip\")"
   ]
  },
  {
   "cell_type": "code",
   "execution_count": null,
   "id": "bT8aHRJCKfuK",
   "metadata": {
    "colab": {
     "base_uri": "https://localhost:8080/"
    },
    "id": "bT8aHRJCKfuK",
    "outputId": "77bc4fb1-1eaf-484e-8bbb-2954842003a2"
   },
   "outputs": [],
   "source": [
    "from google.colab import drive\n",
    "drive.mount('/content/drive')"
   ]
  },
  {
   "cell_type": "code",
   "execution_count": null,
   "id": "l-S8VCcjKhSf",
   "metadata": {
    "id": "l-S8VCcjKhSf"
   },
   "outputs": [],
   "source": [
    "!cp -r \"/content/Clone\" \"/content/drive/MyDrive\""
   ]
  },
  {
   "cell_type": "markdown",
   "id": "VgaeH4QooeJQ",
   "metadata": {
    "id": "VgaeH4QooeJQ"
   },
   "source": [
    "# Testing"
   ]
  },
  {
   "cell_type": "code",
   "execution_count": null,
   "id": "ONkO4GEaocSg",
   "metadata": {
    "colab": {
     "base_uri": "https://localhost:8080/",
     "height": 38
    },
    "id": "ONkO4GEaocSg",
    "outputId": "33aa3ec9-60de-4fc8-d473-f4b621d53145"
   },
   "outputs": [],
   "source": [
    "# Access the 'train' split of the dataset\n",
    "test_dataset = pd.read_csv(\"data.csv\")\n"
   ]
  },
  {
   "cell_type": "code",
   "execution_count": null,
   "id": "cdEAUnwZWWft",
   "metadata": {
    "id": "cdEAUnwZWWft"
   },
   "outputs": [],
   "source": [
    "import torch\n",
    "from transformers import pipeline\n",
    "from transformers import BloomTokenizerFast, BloomForCausalLM\n",
    "import textwrap\n",
    "\n",
    "# Loading the fine-tuned model: LegalQA-bloom-560m\n",
    "tokenizer = BloomTokenizerFast.from_pretrained(\"bigscience/bloomz-560m\")\n",
    "model = BloomForCausalLM.from_pretrained(\"Clone\")\n",
    "\n"
   ]
  },
  {
   "cell_type": "code",
   "execution_count": null,
   "id": "JISogNNEcwcD",
   "metadata": {
    "colab": {
     "base_uri": "https://localhost:8080/",
     "height": 633
    },
    "id": "JISogNNEcwcD",
    "outputId": "0f8f3d8d-e3a5-4750-931d-d61f729d89fd"
   },
   "outputs": [],
   "source": [
    "while True:\n",
    "    # Take user input\n",
    "    user_input = input(\"You: \")\n",
    "\n",
    "    # Exit the loop if the user types 'exit'\n",
    "    if user_input.lower() == 'exit':\n",
    "        print(\"Conversation ended.\")\n",
    "        break\n",
    "\n",
    "\n",
    "    # Generate model response\n",
    "    prompt = f\"Given the question {user_input}, what is the answer? Answer: \"\n",
    "    generator = pipeline('text-generation',\n",
    "                          model=model,\n",
    "                          tokenizer=tokenizer,\n",
    "                          do_sample=True)\n",
    "    result = generator(prompt, max_length=256)\n",
    "\n",
    "    generated_answer = result[0]['generated_text'][len(prompt):].strip()\n",
    "\n",
    "    # Wrap the generated answer to fit the screen width\n",
    "    wrapped_answer = textwrap.fill(generated_answer, width=120)\n",
    "\n",
    "    # Print the wrapped answer\n",
    "    print(f\"Answer:\\n{wrapped_answer}\\n\")"
   ]
  }
 ],
 "metadata": {
  "accelerator": "GPU",
  "colab": {
   "gpuType": "T4",
   "provenance": []
  },
  "kernelspec": {
   "display_name": "Python 3 (ipykernel)",
   "language": "python",
   "name": "python3"
  },
  "language_info": {
   "codemirror_mode": {
    "name": "ipython",
    "version": 3
   },
   "file_extension": ".py",
   "mimetype": "text/x-python",
   "name": "python",
   "nbconvert_exporter": "python",
   "pygments_lexer": "ipython3",
   "version": "3.10.6"
  },
  "widgets": {
   "application/vnd.jupyter.widget-state+json": {
    "11bb0fba24854cfc8f080f54aba0c93e": {
     "model_module": "@jupyter-widgets/controls",
     "model_module_version": "1.5.0",
     "model_name": "FloatProgressModel",
     "state": {
      "_dom_classes": [],
      "_model_module": "@jupyter-widgets/controls",
      "_model_module_version": "1.5.0",
      "_model_name": "FloatProgressModel",
      "_view_count": null,
      "_view_module": "@jupyter-widgets/controls",
      "_view_module_version": "1.5.0",
      "_view_name": "ProgressView",
      "bar_style": "success",
      "description": "",
      "description_tooltip": null,
      "layout": "IPY_MODEL_ca4074be4e3c4a6b9b90c06b59be4dbf",
      "max": 1118459450,
      "min": 0,
      "orientation": "horizontal",
      "style": "IPY_MODEL_17b7c5228eb248b88eadd3a9458f037b",
      "value": 1118459450
     }
    },
    "13b3fdc395fd410e8ab9ea5173a23bc1": {
     "model_module": "@jupyter-widgets/controls",
     "model_module_version": "1.5.0",
     "model_name": "HTMLModel",
     "state": {
      "_dom_classes": [],
      "_model_module": "@jupyter-widgets/controls",
      "_model_module_version": "1.5.0",
      "_model_name": "HTMLModel",
      "_view_count": null,
      "_view_module": "@jupyter-widgets/controls",
      "_view_module_version": "1.5.0",
      "_view_name": "HTMLView",
      "description": "",
      "description_tooltip": null,
      "layout": "IPY_MODEL_eb6018eac08245489065b92427a33424",
      "placeholder": "​",
      "style": "IPY_MODEL_1b8bde918bf7457698032861ccc1e11b",
      "value": "Map: 100%"
     }
    },
    "17b7c5228eb248b88eadd3a9458f037b": {
     "model_module": "@jupyter-widgets/controls",
     "model_module_version": "1.5.0",
     "model_name": "ProgressStyleModel",
     "state": {
      "_model_module": "@jupyter-widgets/controls",
      "_model_module_version": "1.5.0",
      "_model_name": "ProgressStyleModel",
      "_view_count": null,
      "_view_module": "@jupyter-widgets/base",
      "_view_module_version": "1.2.0",
      "_view_name": "StyleView",
      "bar_color": null,
      "description_width": ""
     }
    },
    "1b8bde918bf7457698032861ccc1e11b": {
     "model_module": "@jupyter-widgets/controls",
     "model_module_version": "1.5.0",
     "model_name": "DescriptionStyleModel",
     "state": {
      "_model_module": "@jupyter-widgets/controls",
      "_model_module_version": "1.5.0",
      "_model_name": "DescriptionStyleModel",
      "_view_count": null,
      "_view_module": "@jupyter-widgets/base",
      "_view_module_version": "1.2.0",
      "_view_name": "StyleView",
      "description_width": ""
     }
    },
    "277e440a63f64002bbe5c806cd28b326": {
     "model_module": "@jupyter-widgets/controls",
     "model_module_version": "1.5.0",
     "model_name": "HBoxModel",
     "state": {
      "_dom_classes": [],
      "_model_module": "@jupyter-widgets/controls",
      "_model_module_version": "1.5.0",
      "_model_name": "HBoxModel",
      "_view_count": null,
      "_view_module": "@jupyter-widgets/controls",
      "_view_module_version": "1.5.0",
      "_view_name": "HBoxView",
      "box_style": "",
      "children": [
       "IPY_MODEL_13b3fdc395fd410e8ab9ea5173a23bc1",
       "IPY_MODEL_c5c6d471f26c456e98e5145a2903b5f4",
       "IPY_MODEL_d3c0fa7a616a4c868c1ea24384f4e9e8"
      ],
      "layout": "IPY_MODEL_9ccec843229a45a18ee2f8c09c6e2e98"
     }
    },
    "34bb36a5af924ee4af66c6e73cad5b77": {
     "model_module": "@jupyter-widgets/base",
     "model_module_version": "1.2.0",
     "model_name": "LayoutModel",
     "state": {
      "_model_module": "@jupyter-widgets/base",
      "_model_module_version": "1.2.0",
      "_model_name": "LayoutModel",
      "_view_count": null,
      "_view_module": "@jupyter-widgets/base",
      "_view_module_version": "1.2.0",
      "_view_name": "LayoutView",
      "align_content": null,
      "align_items": null,
      "align_self": null,
      "border": null,
      "bottom": null,
      "display": null,
      "flex": null,
      "flex_flow": null,
      "grid_area": null,
      "grid_auto_columns": null,
      "grid_auto_flow": null,
      "grid_auto_rows": null,
      "grid_column": null,
      "grid_gap": null,
      "grid_row": null,
      "grid_template_areas": null,
      "grid_template_columns": null,
      "grid_template_rows": null,
      "height": null,
      "justify_content": null,
      "justify_items": null,
      "left": null,
      "margin": null,
      "max_height": null,
      "max_width": null,
      "min_height": null,
      "min_width": null,
      "object_fit": null,
      "object_position": null,
      "order": null,
      "overflow": null,
      "overflow_x": null,
      "overflow_y": null,
      "padding": null,
      "right": null,
      "top": null,
      "visibility": null,
      "width": null
     }
    },
    "5553cffc653e4578a2cd1c180e8f6835": {
     "model_module": "@jupyter-widgets/controls",
     "model_module_version": "1.5.0",
     "model_name": "HTMLModel",
     "state": {
      "_dom_classes": [],
      "_model_module": "@jupyter-widgets/controls",
      "_model_module_version": "1.5.0",
      "_model_name": "HTMLModel",
      "_view_count": null,
      "_view_module": "@jupyter-widgets/controls",
      "_view_module_version": "1.5.0",
      "_view_name": "HTMLView",
      "description": "",
      "description_tooltip": null,
      "layout": "IPY_MODEL_fa68137f63ea4929ae01c1945bbd9622",
      "placeholder": "​",
      "style": "IPY_MODEL_fdf86fd0151a4e9dbc8290badf449f19",
      "value": " 1.12G/1.12G [00:09&lt;00:00, 92.2MB/s]"
     }
    },
    "5a35db2a895d449f8a1239eeb0498cef": {
     "model_module": "@jupyter-widgets/controls",
     "model_module_version": "1.5.0",
     "model_name": "DescriptionStyleModel",
     "state": {
      "_model_module": "@jupyter-widgets/controls",
      "_model_module_version": "1.5.0",
      "_model_name": "DescriptionStyleModel",
      "_view_count": null,
      "_view_module": "@jupyter-widgets/base",
      "_view_module_version": "1.2.0",
      "_view_name": "StyleView",
      "description_width": ""
     }
    },
    "678ec8d355a4440f889197caa8cb92f2": {
     "model_module": "@jupyter-widgets/controls",
     "model_module_version": "1.5.0",
     "model_name": "ProgressStyleModel",
     "state": {
      "_model_module": "@jupyter-widgets/controls",
      "_model_module_version": "1.5.0",
      "_model_name": "ProgressStyleModel",
      "_view_count": null,
      "_view_module": "@jupyter-widgets/base",
      "_view_module_version": "1.2.0",
      "_view_name": "StyleView",
      "bar_color": null,
      "description_width": ""
     }
    },
    "776da4ed1a094aafa70f008466cbbdb6": {
     "model_module": "@jupyter-widgets/controls",
     "model_module_version": "1.5.0",
     "model_name": "HTMLModel",
     "state": {
      "_dom_classes": [],
      "_model_module": "@jupyter-widgets/controls",
      "_model_module_version": "1.5.0",
      "_model_name": "HTMLModel",
      "_view_count": null,
      "_view_module": "@jupyter-widgets/controls",
      "_view_module_version": "1.5.0",
      "_view_name": "HTMLView",
      "description": "",
      "description_tooltip": null,
      "layout": "IPY_MODEL_e135f70bfaf2479fa4793b32721b7ad7",
      "placeholder": "​",
      "style": "IPY_MODEL_80b221ba44014c45bba4fd890e67ad74",
      "value": "model.safetensors: 100%"
     }
    },
    "80b221ba44014c45bba4fd890e67ad74": {
     "model_module": "@jupyter-widgets/controls",
     "model_module_version": "1.5.0",
     "model_name": "DescriptionStyleModel",
     "state": {
      "_model_module": "@jupyter-widgets/controls",
      "_model_module_version": "1.5.0",
      "_model_name": "DescriptionStyleModel",
      "_view_count": null,
      "_view_module": "@jupyter-widgets/base",
      "_view_module_version": "1.2.0",
      "_view_name": "StyleView",
      "description_width": ""
     }
    },
    "894aa2ebf468457694e43c25c1dd520f": {
     "model_module": "@jupyter-widgets/base",
     "model_module_version": "1.2.0",
     "model_name": "LayoutModel",
     "state": {
      "_model_module": "@jupyter-widgets/base",
      "_model_module_version": "1.2.0",
      "_model_name": "LayoutModel",
      "_view_count": null,
      "_view_module": "@jupyter-widgets/base",
      "_view_module_version": "1.2.0",
      "_view_name": "LayoutView",
      "align_content": null,
      "align_items": null,
      "align_self": null,
      "border": null,
      "bottom": null,
      "display": null,
      "flex": null,
      "flex_flow": null,
      "grid_area": null,
      "grid_auto_columns": null,
      "grid_auto_flow": null,
      "grid_auto_rows": null,
      "grid_column": null,
      "grid_gap": null,
      "grid_row": null,
      "grid_template_areas": null,
      "grid_template_columns": null,
      "grid_template_rows": null,
      "height": null,
      "justify_content": null,
      "justify_items": null,
      "left": null,
      "margin": null,
      "max_height": null,
      "max_width": null,
      "min_height": null,
      "min_width": null,
      "object_fit": null,
      "object_position": null,
      "order": null,
      "overflow": null,
      "overflow_x": null,
      "overflow_y": null,
      "padding": null,
      "right": null,
      "top": null,
      "visibility": null,
      "width": null
     }
    },
    "9ccec843229a45a18ee2f8c09c6e2e98": {
     "model_module": "@jupyter-widgets/base",
     "model_module_version": "1.2.0",
     "model_name": "LayoutModel",
     "state": {
      "_model_module": "@jupyter-widgets/base",
      "_model_module_version": "1.2.0",
      "_model_name": "LayoutModel",
      "_view_count": null,
      "_view_module": "@jupyter-widgets/base",
      "_view_module_version": "1.2.0",
      "_view_name": "LayoutView",
      "align_content": null,
      "align_items": null,
      "align_self": null,
      "border": null,
      "bottom": null,
      "display": null,
      "flex": null,
      "flex_flow": null,
      "grid_area": null,
      "grid_auto_columns": null,
      "grid_auto_flow": null,
      "grid_auto_rows": null,
      "grid_column": null,
      "grid_gap": null,
      "grid_row": null,
      "grid_template_areas": null,
      "grid_template_columns": null,
      "grid_template_rows": null,
      "height": null,
      "justify_content": null,
      "justify_items": null,
      "left": null,
      "margin": null,
      "max_height": null,
      "max_width": null,
      "min_height": null,
      "min_width": null,
      "object_fit": null,
      "object_position": null,
      "order": null,
      "overflow": null,
      "overflow_x": null,
      "overflow_y": null,
      "padding": null,
      "right": null,
      "top": null,
      "visibility": null,
      "width": null
     }
    },
    "c5c6d471f26c456e98e5145a2903b5f4": {
     "model_module": "@jupyter-widgets/controls",
     "model_module_version": "1.5.0",
     "model_name": "FloatProgressModel",
     "state": {
      "_dom_classes": [],
      "_model_module": "@jupyter-widgets/controls",
      "_model_module_version": "1.5.0",
      "_model_name": "FloatProgressModel",
      "_view_count": null,
      "_view_module": "@jupyter-widgets/controls",
      "_view_module_version": "1.5.0",
      "_view_name": "ProgressView",
      "bar_style": "success",
      "description": "",
      "description_tooltip": null,
      "layout": "IPY_MODEL_34bb36a5af924ee4af66c6e73cad5b77",
      "max": 1550,
      "min": 0,
      "orientation": "horizontal",
      "style": "IPY_MODEL_678ec8d355a4440f889197caa8cb92f2",
      "value": 1550
     }
    },
    "ca4074be4e3c4a6b9b90c06b59be4dbf": {
     "model_module": "@jupyter-widgets/base",
     "model_module_version": "1.2.0",
     "model_name": "LayoutModel",
     "state": {
      "_model_module": "@jupyter-widgets/base",
      "_model_module_version": "1.2.0",
      "_model_name": "LayoutModel",
      "_view_count": null,
      "_view_module": "@jupyter-widgets/base",
      "_view_module_version": "1.2.0",
      "_view_name": "LayoutView",
      "align_content": null,
      "align_items": null,
      "align_self": null,
      "border": null,
      "bottom": null,
      "display": null,
      "flex": null,
      "flex_flow": null,
      "grid_area": null,
      "grid_auto_columns": null,
      "grid_auto_flow": null,
      "grid_auto_rows": null,
      "grid_column": null,
      "grid_gap": null,
      "grid_row": null,
      "grid_template_areas": null,
      "grid_template_columns": null,
      "grid_template_rows": null,
      "height": null,
      "justify_content": null,
      "justify_items": null,
      "left": null,
      "margin": null,
      "max_height": null,
      "max_width": null,
      "min_height": null,
      "min_width": null,
      "object_fit": null,
      "object_position": null,
      "order": null,
      "overflow": null,
      "overflow_x": null,
      "overflow_y": null,
      "padding": null,
      "right": null,
      "top": null,
      "visibility": null,
      "width": null
     }
    },
    "cc7e7550d7b344418437f1c7b8227091": {
     "model_module": "@jupyter-widgets/base",
     "model_module_version": "1.2.0",
     "model_name": "LayoutModel",
     "state": {
      "_model_module": "@jupyter-widgets/base",
      "_model_module_version": "1.2.0",
      "_model_name": "LayoutModel",
      "_view_count": null,
      "_view_module": "@jupyter-widgets/base",
      "_view_module_version": "1.2.0",
      "_view_name": "LayoutView",
      "align_content": null,
      "align_items": null,
      "align_self": null,
      "border": null,
      "bottom": null,
      "display": null,
      "flex": null,
      "flex_flow": null,
      "grid_area": null,
      "grid_auto_columns": null,
      "grid_auto_flow": null,
      "grid_auto_rows": null,
      "grid_column": null,
      "grid_gap": null,
      "grid_row": null,
      "grid_template_areas": null,
      "grid_template_columns": null,
      "grid_template_rows": null,
      "height": null,
      "justify_content": null,
      "justify_items": null,
      "left": null,
      "margin": null,
      "max_height": null,
      "max_width": null,
      "min_height": null,
      "min_width": null,
      "object_fit": null,
      "object_position": null,
      "order": null,
      "overflow": null,
      "overflow_x": null,
      "overflow_y": null,
      "padding": null,
      "right": null,
      "top": null,
      "visibility": null,
      "width": null
     }
    },
    "d3c0fa7a616a4c868c1ea24384f4e9e8": {
     "model_module": "@jupyter-widgets/controls",
     "model_module_version": "1.5.0",
     "model_name": "HTMLModel",
     "state": {
      "_dom_classes": [],
      "_model_module": "@jupyter-widgets/controls",
      "_model_module_version": "1.5.0",
      "_model_name": "HTMLModel",
      "_view_count": null,
      "_view_module": "@jupyter-widgets/controls",
      "_view_module_version": "1.5.0",
      "_view_name": "HTMLView",
      "description": "",
      "description_tooltip": null,
      "layout": "IPY_MODEL_894aa2ebf468457694e43c25c1dd520f",
      "placeholder": "​",
      "style": "IPY_MODEL_5a35db2a895d449f8a1239eeb0498cef",
      "value": " 1550/1550 [00:01&lt;00:00, 1147.73 examples/s]"
     }
    },
    "d805ec41662e469daff9dee7151a4788": {
     "model_module": "@jupyter-widgets/controls",
     "model_module_version": "1.5.0",
     "model_name": "HBoxModel",
     "state": {
      "_dom_classes": [],
      "_model_module": "@jupyter-widgets/controls",
      "_model_module_version": "1.5.0",
      "_model_name": "HBoxModel",
      "_view_count": null,
      "_view_module": "@jupyter-widgets/controls",
      "_view_module_version": "1.5.0",
      "_view_name": "HBoxView",
      "box_style": "",
      "children": [
       "IPY_MODEL_776da4ed1a094aafa70f008466cbbdb6",
       "IPY_MODEL_11bb0fba24854cfc8f080f54aba0c93e",
       "IPY_MODEL_5553cffc653e4578a2cd1c180e8f6835"
      ],
      "layout": "IPY_MODEL_cc7e7550d7b344418437f1c7b8227091"
     }
    },
    "e135f70bfaf2479fa4793b32721b7ad7": {
     "model_module": "@jupyter-widgets/base",
     "model_module_version": "1.2.0",
     "model_name": "LayoutModel",
     "state": {
      "_model_module": "@jupyter-widgets/base",
      "_model_module_version": "1.2.0",
      "_model_name": "LayoutModel",
      "_view_count": null,
      "_view_module": "@jupyter-widgets/base",
      "_view_module_version": "1.2.0",
      "_view_name": "LayoutView",
      "align_content": null,
      "align_items": null,
      "align_self": null,
      "border": null,
      "bottom": null,
      "display": null,
      "flex": null,
      "flex_flow": null,
      "grid_area": null,
      "grid_auto_columns": null,
      "grid_auto_flow": null,
      "grid_auto_rows": null,
      "grid_column": null,
      "grid_gap": null,
      "grid_row": null,
      "grid_template_areas": null,
      "grid_template_columns": null,
      "grid_template_rows": null,
      "height": null,
      "justify_content": null,
      "justify_items": null,
      "left": null,
      "margin": null,
      "max_height": null,
      "max_width": null,
      "min_height": null,
      "min_width": null,
      "object_fit": null,
      "object_position": null,
      "order": null,
      "overflow": null,
      "overflow_x": null,
      "overflow_y": null,
      "padding": null,
      "right": null,
      "top": null,
      "visibility": null,
      "width": null
     }
    },
    "eb6018eac08245489065b92427a33424": {
     "model_module": "@jupyter-widgets/base",
     "model_module_version": "1.2.0",
     "model_name": "LayoutModel",
     "state": {
      "_model_module": "@jupyter-widgets/base",
      "_model_module_version": "1.2.0",
      "_model_name": "LayoutModel",
      "_view_count": null,
      "_view_module": "@jupyter-widgets/base",
      "_view_module_version": "1.2.0",
      "_view_name": "LayoutView",
      "align_content": null,
      "align_items": null,
      "align_self": null,
      "border": null,
      "bottom": null,
      "display": null,
      "flex": null,
      "flex_flow": null,
      "grid_area": null,
      "grid_auto_columns": null,
      "grid_auto_flow": null,
      "grid_auto_rows": null,
      "grid_column": null,
      "grid_gap": null,
      "grid_row": null,
      "grid_template_areas": null,
      "grid_template_columns": null,
      "grid_template_rows": null,
      "height": null,
      "justify_content": null,
      "justify_items": null,
      "left": null,
      "margin": null,
      "max_height": null,
      "max_width": null,
      "min_height": null,
      "min_width": null,
      "object_fit": null,
      "object_position": null,
      "order": null,
      "overflow": null,
      "overflow_x": null,
      "overflow_y": null,
      "padding": null,
      "right": null,
      "top": null,
      "visibility": null,
      "width": null
     }
    },
    "fa68137f63ea4929ae01c1945bbd9622": {
     "model_module": "@jupyter-widgets/base",
     "model_module_version": "1.2.0",
     "model_name": "LayoutModel",
     "state": {
      "_model_module": "@jupyter-widgets/base",
      "_model_module_version": "1.2.0",
      "_model_name": "LayoutModel",
      "_view_count": null,
      "_view_module": "@jupyter-widgets/base",
      "_view_module_version": "1.2.0",
      "_view_name": "LayoutView",
      "align_content": null,
      "align_items": null,
      "align_self": null,
      "border": null,
      "bottom": null,
      "display": null,
      "flex": null,
      "flex_flow": null,
      "grid_area": null,
      "grid_auto_columns": null,
      "grid_auto_flow": null,
      "grid_auto_rows": null,
      "grid_column": null,
      "grid_gap": null,
      "grid_row": null,
      "grid_template_areas": null,
      "grid_template_columns": null,
      "grid_template_rows": null,
      "height": null,
      "justify_content": null,
      "justify_items": null,
      "left": null,
      "margin": null,
      "max_height": null,
      "max_width": null,
      "min_height": null,
      "min_width": null,
      "object_fit": null,
      "object_position": null,
      "order": null,
      "overflow": null,
      "overflow_x": null,
      "overflow_y": null,
      "padding": null,
      "right": null,
      "top": null,
      "visibility": null,
      "width": null
     }
    },
    "fdf86fd0151a4e9dbc8290badf449f19": {
     "model_module": "@jupyter-widgets/controls",
     "model_module_version": "1.5.0",
     "model_name": "DescriptionStyleModel",
     "state": {
      "_model_module": "@jupyter-widgets/controls",
      "_model_module_version": "1.5.0",
      "_model_name": "DescriptionStyleModel",
      "_view_count": null,
      "_view_module": "@jupyter-widgets/base",
      "_view_module_version": "1.2.0",
      "_view_name": "StyleView",
      "description_width": ""
     }
    }
   }
  }
 },
 "nbformat": 4,
 "nbformat_minor": 5
}
