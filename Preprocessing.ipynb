{
 "cells": [
  {
   "cell_type": "code",
   "execution_count": null,
   "id": "306264d1-fa23-474a-98cb-0d4198c4075e",
   "metadata": {},
   "outputs": [],
   "source": [
    "# Access the 'train' split of the dataset\n",
    "train_dataset = pd.read_csv(\"data.csv\")"
   ]
  },
  {
   "cell_type": "code",
   "execution_count": null,
   "id": "120dc1f0-b32f-4894-9dcb-b1045cc32d3b",
   "metadata": {},
   "outputs": [],
   "source": [
    "df=pd.DataFrame.from_dict(train_dataset)"
   ]
  },
  {
   "cell_type": "code",
   "execution_count": null,
   "id": "b87a1589-14bc-45ab-a485-20354c6f86da",
   "metadata": {},
   "outputs": [],
   "source": [
    "df.info()"
   ]
  },
  {
   "cell_type": "code",
   "execution_count": null,
   "id": "0e6818a0-1bec-487f-a956-4d54b315bd5c",
   "metadata": {},
   "outputs": [],
   "source": [
    "import pandas as pd\n",
    "import json"
   ]
  },
  {
   "cell_type": "code",
   "execution_count": null,
   "id": "980df16e-21bb-42d5-a580-0b2350bd16c6",
   "metadata": {},
   "outputs": [],
   "source": [
    "def build_prompt(row):\n",
    "    if pd.isnull(row['context']):\n",
    "        prompt = f\"Question: {row['question']} With no context, what is the answer? Answer: {row['answer']}\"\n",
    "    else:\n",
    "        prompt = f\"Question: {row['question']} In the context of {row['context']}, what is the answer? Answer: {row['answer']}\"\n",
    "    return {'text': prompt}"
   ]
  },
  {
   "cell_type": "code",
   "execution_count": null,
   "id": "0a8146a0-6bd5-4cc4-8811-ff065fea981c",
   "metadata": {},
   "outputs": [],
   "source": [
    "df['prompt'] = df.apply(build_prompt, axis=1)\n",
    "\n",
    "result = df['prompt'].to_list()"
   ]
  },
  {
   "cell_type": "code",
   "execution_count": null,
   "id": "d71d9cc1-286e-4baa-90c2-de8a1bb0e232",
   "metadata": {},
   "outputs": [],
   "source": [
    "# Save prompts to a JSON file\n",
    "with open('prompts.json', 'w') as outfile:\n",
    "    json.dump(result, outfile, ensure_ascii=False)"
   ]
  }
 ],
 "metadata": {
  "kernelspec": {
   "display_name": "Python 3 (ipykernel)",
   "language": "python",
   "name": "python3"
  },
  "language_info": {
   "codemirror_mode": {
    "name": "ipython",
    "version": 3
   },
   "file_extension": ".py",
   "mimetype": "text/x-python",
   "name": "python",
   "nbconvert_exporter": "python",
   "pygments_lexer": "ipython3",
   "version": "3.10.6"
  }
 },
 "nbformat": 4,
 "nbformat_minor": 5
}
