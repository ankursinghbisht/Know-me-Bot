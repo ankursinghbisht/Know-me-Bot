{
 "cells": [
  {
   "cell_type": "code",
   "execution_count": null,
   "id": "fed13c03-32db-453f-ba72-7fc24058191e",
   "metadata": {},
   "outputs": [],
   "source": [
    "import pandas as pd\n",
    "import os"
   ]
  },
  {
   "cell_type": "code",
   "execution_count": null,
   "id": "ec20598c-7e50-490b-b1b7-f3f12b35413d",
   "metadata": {},
   "outputs": [],
   "source": [
    "# Read all CSV files in the directory\n",
    "data_frames = []\n",
    "directory = \"D:\\Repos\\My-Digital-Clone\\Data\"  \n",
    "for filename in os.listdir(directory):\n",
    "    if filename.endswith(\".csv\"):\n",
    "        temp=pd.read_csv(os.path.join(directory, filename))\n",
    "        data_frames.append(temp)\n",
    "\n",
    "# Concatenate all data frames\n",
    "data = pd.concat(data_frames, ignore_index=True)"
   ]
  },
  {
   "cell_type": "code",
   "execution_count": null,
   "id": "a7e1bbe1-3544-4114-877b-064c48b96254",
   "metadata": {},
   "outputs": [],
   "source": [
    "# Function to augment data\n",
    "def augment_data(df):\n",
    "    augmented_data = pd.DataFrame(columns=['question', 'answer'])\n",
    "\n",
    "    for i in range(0, len(df), 5):\n",
    "        batch = df.iloc[i:i+5]\n",
    "\n",
    "        # Duplicate questions\n",
    "        duplicated_questions = batch['question'].repeat(5).reset_index(drop=True)\n",
    "\n",
    "        # Map questions to corresponding answers\n",
    "        answers = batch['answer'].tolist() * 5\n",
    "\n",
    "        augmented_data = pd.concat([augmented_data, pd.DataFrame({'question': duplicated_questions, 'answer': answers})], ignore_index=True)\n",
    "\n",
    "    return augmented_data"
   ]
  },
  {
   "cell_type": "code",
   "execution_count": null,
   "id": "3b3b3fe5-c297-4a31-a6ff-f4dcb456de88",
   "metadata": {},
   "outputs": [],
   "source": [
    "# Augment data frames\n",
    "augmented_data_frames = [augment_data(df) for df in data_frames]\n",
    "\n",
    "# Concatenate augmented data frames\n",
    "augmented_data = pd.concat(augmented_data_frames, ignore_index=True)\n",
    "\n",
    "# Shuffle the data\n",
    "augmented_data = augmented_data.sample(frac=1).reset_index(drop=True)"
   ]
  },
  {
   "cell_type": "code",
   "execution_count": null,
   "id": "afebb4fb-97c8-4406-bbfe-5311742b6d25",
   "metadata": {},
   "outputs": [],
   "source": [
    "augmented_data.info()"
   ]
  }
 ],
 "metadata": {
  "kernelspec": {
   "display_name": "Python 3 (ipykernel)",
   "language": "python",
   "name": "python3"
  },
  "language_info": {
   "codemirror_mode": {
    "name": "ipython",
    "version": 3
   },
   "file_extension": ".py",
   "mimetype": "text/x-python",
   "name": "python",
   "nbconvert_exporter": "python",
   "pygments_lexer": "ipython3",
   "version": "3.10.6"
  }
 },
 "nbformat": 4,
 "nbformat_minor": 5
}
