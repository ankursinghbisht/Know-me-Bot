{
 "cells": [
  {
   "cell_type": "code",
   "execution_count": null,
   "id": "fed13c03-32db-453f-ba72-7fc24058191e",
   "metadata": {},
   "outputs": [],
   "source": [
    "import pandas as pd\n",
    "import os"
   ]
  },
  {
   "cell_type": "code",
   "execution_count": null,
   "id": "ec20598c-7e50-490b-b1b7-f3f12b35413d",
   "metadata": {},
   "outputs": [],
   "source": [
    "# Read all CSV files in the directory\n",
    "data_frames = []\n",
    "directory = \"D:\\Repos\\My-Digital-Clone\\Data\"  \n",
    "for filename in os.listdir(directory):\n",
    "    if filename.endswith(\".csv\"):\n",
    "        temp=pd.read_csv(os.path.join(directory, filename))\n",
    "        data_frames.append(temp)\n",
    "\n",
    "# Concatenate all data frames\n",
    "data = pd.concat(data_frames, ignore_index=True)"
   ]
  },
  {
   "cell_type": "code",
   "execution_count": null,
   "id": "b2b02a49-0c90-4a63-8122-95ad9341fe7f",
   "metadata": {},
   "outputs": [],
   "source": [
    "def augment_data(df):\n",
    "    # Initialize an empty DataFrame to store the augmented data\n",
    "    augmented_data = pd.DataFrame(columns=['question', 'answer'])\n",
    "\n",
    "    # Extract all answers from the original DataFrame\n",
    "    all_answers = df['answer'].tolist()\n",
    "\n",
    "    # Augment data by repeating each batch of questions and answers\n",
    "    for i in range(0, len(df), 5):\n",
    "        batch = df.iloc[i:i+5]\n",
    "\n",
    "        # Duplicate questions\n",
    "        duplicated_questions = batch['question'].repeat(5).reset_index(drop=True)\n",
    "\n",
    "        # Map questions to corresponding answers\n",
    "        answers = batch['answer'].tolist() * 5\n",
    "\n",
    "        # Concatenate the augmented data\n",
    "        augmented_data = pd.concat([augmented_data, pd.DataFrame({'question': duplicated_questions, 'answer': answers})], ignore_index=True)\n",
    "\n",
    "    # Initialize an empty DataFrame to store context data\n",
    "    context_data = pd.DataFrame(columns=['question', 'answer','context'])\n",
    "\n",
    "    # Generate context data by combining each question-answer pair with all answers\n",
    "    for i in range(len(augmented_data)):\n",
    "        batch = augmented_data.iloc[i:i+1]\n",
    "        duplicated_questions = batch['question'].repeat(len(all_answers)).reset_index(drop=True)\n",
    "        duplicated_answers = batch['answer'].repeat(len(all_answers)).reset_index(drop=True)\n",
    "\n",
    "        # Concatenate the context data\n",
    "        context_data = pd.concat([context_data, pd.DataFrame({'question': duplicated_questions, 'answer': duplicated_answers, 'context': all_answers})], ignore_index=True)\n",
    "\n",
    "    # Create a copy of the DataFrame without the 'context' column\n",
    "    context_data_copy = context_data.drop(columns=['context']).copy()\n",
    "\n",
    "    # Append the copy to the original DataFrame\n",
    "    context_data = pd.concat([context_data, context_data_copy], ignore_index=True)\n",
    "\n",
    "    return context_data\n"
   ]
  },
  {
   "cell_type": "code",
   "execution_count": null,
   "id": "3b3b3fe5-c297-4a31-a6ff-f4dcb456de88",
   "metadata": {},
   "outputs": [],
   "source": [
    "# Augment data frames\n",
    "augmented_data_frames = [augment_data(df) for df in data_frames]\n",
    "\n",
    "# Concatenate augmented data frames\n",
    "augmented_data = pd.concat(augmented_data_frames, ignore_index=True)\n",
    "\n",
    "# Shuffle the data\n",
    "augmented_data = augmented_data.sample(frac=1).reset_index(drop=True)"
   ]
  },
  {
   "cell_type": "code",
   "execution_count": null,
   "id": "0eee022c-fca5-4788-a61e-2b207acbb7a7",
   "metadata": {},
   "outputs": [],
   "source": [
    "augmented_data.info()"
   ]
  },
  {
   "cell_type": "code",
   "execution_count": null,
   "id": "0f865e3b-f95e-4592-9417-74acf32ff7c9",
   "metadata": {},
   "outputs": [],
   "source": [
    "# Save the augmented dataset to a CSV file\n",
    "augmented_data.to_csv('Data\\data.csv', index=False)"
   ]
  }
 ],
 "metadata": {
  "kernelspec": {
   "display_name": "Python 3 (ipykernel)",
   "language": "python",
   "name": "python3"
  },
  "language_info": {
   "codemirror_mode": {
    "name": "ipython",
    "version": 3
   },
   "file_extension": ".py",
   "mimetype": "text/x-python",
   "name": "python",
   "nbconvert_exporter": "python",
   "pygments_lexer": "ipython3",
   "version": "3.10.6"
  }
 },
 "nbformat": 4,
 "nbformat_minor": 5
}
